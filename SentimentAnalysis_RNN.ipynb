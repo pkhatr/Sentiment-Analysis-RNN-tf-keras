{
 "cells": [
  {
   "cell_type": "markdown",
   "id": "8c77719c",
   "metadata": {},
   "source": [
    "# Import Libraries"
   ]
  },
  {
   "cell_type": "code",
   "execution_count": 1,
   "id": "082d9a81",
   "metadata": {},
   "outputs": [],
   "source": [
    "# Import libraries\n",
    "import numpy as np\n",
    "import tensorflow as tf\n",
    "from tensorflow import keras\n",
    "from tensorflow.keras import layers\n",
    "import nltk                                  \n",
    "from nltk.corpus import twitter_samples"
   ]
  },
  {
   "cell_type": "markdown",
   "id": "db92250b",
   "metadata": {},
   "source": [
    "# Twitter Samples using nltk"
   ]
  },
  {
   "cell_type": "code",
   "execution_count": 2,
   "id": "b4ad081a",
   "metadata": {},
   "outputs": [],
   "source": [
    "all_positive_tweets = twitter_samples.strings('positive_tweets.json')\n",
    "all_negative_tweets = twitter_samples.strings('negative_tweets.json')"
   ]
  },
  {
   "cell_type": "code",
   "execution_count": 3,
   "id": "c25bd8fe",
   "metadata": {},
   "outputs": [
    {
     "name": "stdout",
     "output_type": "stream",
     "text": [
      "Total Positive Tweets 5000\n",
      "Total Negative Tweets 5000\n"
     ]
    }
   ],
   "source": [
    "print('Total Positive Tweets', len(all_positive_tweets))\n",
    "print('Total Negative Tweets', len(all_negative_tweets))"
   ]
  },
  {
   "cell_type": "markdown",
   "id": "cac3458e",
   "metadata": {},
   "source": [
    "# Shuffle Tweet List"
   ]
  },
  {
   "cell_type": "code",
   "execution_count": 4,
   "id": "a8b6b1ee",
   "metadata": {},
   "outputs": [],
   "source": [
    "np.random.shuffle(all_positive_tweets)\n",
    "np.random.shuffle(all_negative_tweets)"
   ]
  },
  {
   "cell_type": "markdown",
   "id": "309d83d0",
   "metadata": {},
   "source": [
    "# Train Test Split"
   ]
  },
  {
   "cell_type": "code",
   "execution_count": 5,
   "id": "c485f8c7",
   "metadata": {},
   "outputs": [],
   "source": [
    "# Get asssign 80% of tweets to training set and 20% to test set\n",
    "X_train_sent = all_positive_tweets[:4000] + all_negative_tweets[:4000]\n",
    "X_test_sent = all_positive_tweets[4000:] + all_negative_tweets[4000:]\n",
    "\n",
    "# Get label for train-test data. 1 indicates positive and 0 indicates negative\n",
    "y_train = np.append(np.ones(4000), np.zeros(4000))\n",
    "y_test = np.append(np.ones(1000), np.zeros(1000))"
   ]
  },
  {
   "cell_type": "markdown",
   "id": "dbd7e05e",
   "metadata": {},
   "source": [
    "# Text Tokenize and Vectorize"
   ]
  },
  {
   "cell_type": "code",
   "execution_count": 6,
   "id": "aa17f83e",
   "metadata": {},
   "outputs": [],
   "source": [
    "from keras.preprocessing.text import Tokenizer\n",
    "tokenizer = Tokenizer(num_words=5000)\n",
    "tokenizer.fit_on_texts(X_train_sent)\n",
    "\n",
    "X_train = tokenizer.texts_to_sequences(X_train_sent)\n",
    "X_test = tokenizer.texts_to_sequences(X_test_sent)"
   ]
  },
  {
   "cell_type": "code",
   "execution_count": 7,
   "id": "f0281867",
   "metadata": {},
   "outputs": [],
   "source": [
    "vocab_size = len(tokenizer.word_index) + 1"
   ]
  },
  {
   "cell_type": "code",
   "execution_count": 8,
   "id": "6b10edc4",
   "metadata": {},
   "outputs": [],
   "source": [
    "from keras.preprocessing.sequence import pad_sequences\n",
    "X_train = pad_sequences(X_train, padding='post', maxlen=1000)\n",
    "X_test = pad_sequences(X_test, padding='post', maxlen=1000)"
   ]
  },
  {
   "cell_type": "markdown",
   "id": "3f0eaf19",
   "metadata": {},
   "source": [
    "# Model Building using RNN"
   ]
  },
  {
   "cell_type": "code",
   "execution_count": 9,
   "id": "11534253",
   "metadata": {},
   "outputs": [
    {
     "name": "stderr",
     "output_type": "stream",
     "text": [
      "2022-01-13 09:55:43.026702: I tensorflow/core/platform/cpu_feature_guard.cc:151] This TensorFlow binary is optimized with oneAPI Deep Neural Network Library (oneDNN) to use the following CPU instructions in performance-critical operations:  AVX2 FMA\n",
      "To enable them in other operations, rebuild TensorFlow with the appropriate compiler flags.\n"
     ]
    }
   ],
   "source": [
    "model = keras.Sequential([\n",
    "    layers.Embedding(\n",
    "        input_dim=vocab_size,\n",
    "        output_dim=128,\n",
    "        input_length=1000),\n",
    "    layers.Dropout(0.2),\n",
    "    layers.Bidirectional(layers.LSTM(64)),\n",
    "    layers.Dropout(0.2),\n",
    "    layers.Dense(32, activation='relu'),\n",
    "    layers.Dropout(0.2),\n",
    "    layers.Dense(1, activation='sigmoid')\n",
    "])"
   ]
  },
  {
   "cell_type": "code",
   "execution_count": 10,
   "id": "7c89d7f1",
   "metadata": {},
   "outputs": [
    {
     "name": "stdout",
     "output_type": "stream",
     "text": [
      "Model: \"sequential\"\n",
      "_________________________________________________________________\n",
      " Layer (type)                Output Shape              Param #   \n",
      "=================================================================\n",
      " embedding (Embedding)       (None, 1000, 128)         2336000   \n",
      "                                                                 \n",
      " dropout (Dropout)           (None, 1000, 128)         0         \n",
      "                                                                 \n",
      " bidirectional (Bidirectiona  (None, 128)              98816     \n",
      " l)                                                              \n",
      "                                                                 \n",
      " dropout_1 (Dropout)         (None, 128)               0         \n",
      "                                                                 \n",
      " dense (Dense)               (None, 32)                4128      \n",
      "                                                                 \n",
      " dropout_2 (Dropout)         (None, 32)                0         \n",
      "                                                                 \n",
      " dense_1 (Dense)             (None, 1)                 33        \n",
      "                                                                 \n",
      "=================================================================\n",
      "Total params: 2,438,977\n",
      "Trainable params: 2,438,977\n",
      "Non-trainable params: 0\n",
      "_________________________________________________________________\n"
     ]
    }
   ],
   "source": [
    "model.compile(optimizer='adam',\n",
    "              loss='binary_crossentropy',\n",
    "              metrics=['accuracy'])\n",
    "model.summary()"
   ]
  },
  {
   "cell_type": "code",
   "execution_count": 11,
   "id": "2157a4cb",
   "metadata": {
    "scrolled": true
   },
   "outputs": [
    {
     "name": "stdout",
     "output_type": "stream",
     "text": [
      "Epoch 1/10\n",
      "250/250 - 133s - loss: 0.5383 - accuracy: 0.7168 - val_loss: 0.4482 - val_accuracy: 0.7895 - 133s/epoch - 532ms/step\n",
      "Epoch 2/10\n",
      "250/250 - 965s - loss: 0.3583 - accuracy: 0.8468 - val_loss: 0.4531 - val_accuracy: 0.8015 - 965s/epoch - 4s/step\n",
      "Epoch 3/10\n",
      "250/250 - 680s - loss: 0.2730 - accuracy: 0.8880 - val_loss: 0.4747 - val_accuracy: 0.7960 - 680s/epoch - 3s/step\n",
      "Epoch 4/10\n",
      "250/250 - 156s - loss: 0.2133 - accuracy: 0.9145 - val_loss: 0.5417 - val_accuracy: 0.7900 - 156s/epoch - 626ms/step\n",
      "Epoch 5/10\n",
      "250/250 - 154s - loss: 0.1670 - accuracy: 0.9341 - val_loss: 0.5872 - val_accuracy: 0.7850 - 154s/epoch - 615ms/step\n",
      "Epoch 6/10\n",
      "250/250 - 175s - loss: 0.1386 - accuracy: 0.9444 - val_loss: 0.6955 - val_accuracy: 0.7725 - 175s/epoch - 699ms/step\n",
      "Epoch 7/10\n",
      "250/250 - 148s - loss: 0.1178 - accuracy: 0.9515 - val_loss: 0.9286 - val_accuracy: 0.7745 - 148s/epoch - 591ms/step\n",
      "Epoch 8/10\n",
      "250/250 - 133s - loss: 0.0982 - accuracy: 0.9595 - val_loss: 0.9347 - val_accuracy: 0.7725 - 133s/epoch - 532ms/step\n",
      "Epoch 9/10\n",
      "250/250 - 136s - loss: 0.0883 - accuracy: 0.9634 - val_loss: 1.0878 - val_accuracy: 0.7575 - 136s/epoch - 543ms/step\n",
      "Epoch 10/10\n",
      "250/250 - 136s - loss: 0.0762 - accuracy: 0.9679 - val_loss: 1.1838 - val_accuracy: 0.7655 - 136s/epoch - 546ms/step\n"
     ]
    }
   ],
   "source": [
    "history = model.fit(X_train, y_train,\n",
    "                    epochs=10,\n",
    "                    verbose=2,\n",
    "                    validation_data=(X_test, y_test),\n",
    "                    batch_size=32)"
   ]
  },
  {
   "cell_type": "markdown",
   "id": "ce187da3",
   "metadata": {},
   "source": [
    "# Prediction on Test set"
   ]
  },
  {
   "cell_type": "code",
   "execution_count": 12,
   "id": "e11aa1fc",
   "metadata": {},
   "outputs": [],
   "source": [
    "y_pred = np.round(model.predict(X_test))"
   ]
  },
  {
   "cell_type": "code",
   "execution_count": 13,
   "id": "b52acf2a",
   "metadata": {},
   "outputs": [
    {
     "data": {
      "text/plain": [
       "array([[1.],\n",
       "       [1.],\n",
       "       [1.],\n",
       "       ...,\n",
       "       [0.],\n",
       "       [0.],\n",
       "       [0.]], dtype=float32)"
      ]
     },
     "execution_count": 13,
     "metadata": {},
     "output_type": "execute_result"
    }
   ],
   "source": [
    "y_pred"
   ]
  },
  {
   "cell_type": "markdown",
   "id": "45f45c02",
   "metadata": {},
   "source": [
    "# Model Performance"
   ]
  },
  {
   "cell_type": "code",
   "execution_count": 14,
   "id": "5969f6e6",
   "metadata": {},
   "outputs": [],
   "source": [
    "from sklearn.metrics import precision_recall_fscore_support as score"
   ]
  },
  {
   "cell_type": "code",
   "execution_count": 15,
   "id": "7cf01335",
   "metadata": {},
   "outputs": [
    {
     "name": "stdout",
     "output_type": "stream",
     "text": [
      "Precision: 0.7560270009643202\n",
      "Recall: 0.784\n",
      "F1-Score: 0.7697594501718215\n"
     ]
    }
   ],
   "source": [
    "scores = score(y_test, y_pred, pos_label=0, average='binary')\n",
    "\n",
    "print('Precision:', scores[0])\n",
    "print('Recall:', scores[1])\n",
    "print('F1-Score:', scores[2])"
   ]
  },
  {
   "cell_type": "markdown",
   "id": "f9b62778",
   "metadata": {},
   "source": [
    "# Sentiment Analysis on new tweets"
   ]
  },
  {
   "cell_type": "code",
   "execution_count": 16,
   "id": "93e634d6",
   "metadata": {},
   "outputs": [],
   "source": [
    "# Find Sentiments of new tweets\n",
    "def new_tweets(text):\n",
    "    text = tokenizer.texts_to_sequences([text])\n",
    "    text = pad_sequences(text, padding='post', maxlen=1000)\n",
    "    output = np.round(model.predict(text))\n",
    "    if output[0] == 1:\n",
    "        print('Sentiment - This is a positive tweet!!!')\n",
    "    else:\n",
    "        print('Sentiment - This is a negative tweet!!!')"
   ]
  },
  {
   "cell_type": "code",
   "execution_count": 17,
   "id": "877649e9",
   "metadata": {},
   "outputs": [
    {
     "name": "stdout",
     "output_type": "stream",
     "text": [
      "To quit type: -1\n",
      "Enter or copy a tweet: I really like that tweet. \n",
      "Sentiment - This is a positive tweet!!!\n",
      "\n",
      "Enter or copy a tweet: I have to say I am very disappointed on you!\n",
      "Sentiment - This is a negative tweet!!!\n",
      "\n",
      "Enter or copy a tweet: Everyday is a new challenge but must say life is good. \n",
      "Sentiment - This is a positive tweet!!!\n",
      "\n",
      "Enter or copy a tweet: -1\n",
      "Done, Thank you!\n"
     ]
    }
   ],
   "source": [
    "# Check tweets\n",
    "print('To quit type: -1')\n",
    "\n",
    "while True:\n",
    "    text = input('Enter or copy a tweet: ')\n",
    "    if text == '-1':\n",
    "        break\n",
    "    new_tweets(text)\n",
    "    print()\n",
    "    \n",
    "print('Done, Thank you!')"
   ]
  },
  {
   "cell_type": "code",
   "execution_count": null,
   "id": "3ce1833b",
   "metadata": {},
   "outputs": [],
   "source": []
  }
 ],
 "metadata": {
  "kernelspec": {
   "display_name": "Python 3 (ipykernel)",
   "language": "python",
   "name": "python3"
  },
  "language_info": {
   "codemirror_mode": {
    "name": "ipython",
    "version": 3
   },
   "file_extension": ".py",
   "mimetype": "text/x-python",
   "name": "python",
   "nbconvert_exporter": "python",
   "pygments_lexer": "ipython3",
   "version": "3.7.11"
  }
 },
 "nbformat": 4,
 "nbformat_minor": 5
}
